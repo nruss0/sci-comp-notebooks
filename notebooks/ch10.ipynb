{
 "cells": [
  {
   "cell_type": "markdown",
   "metadata": {},
   "source": [
    "## Chapter 10: Rootfinding"
   ]
  },
  {
   "cell_type": "markdown",
   "metadata": {},
   "source": [
    "A **root** of a function $f(x)$ is a number $x^{\\star}$ such that $f(x^{\\star})=0$.\n",
    "\n",
    "For example, if $f(x)=x^2-4x+3$, then $x=1$ is a root because $f(1)=0$\n",
    "\n",
    "With some functions (linear, quadratic), we can find the roots using standard mathematical techniques, however, in many cases, say if $g(x) = x \\cos x$, we can't. "
   ]
  },
  {
   "cell_type": "markdown",
   "metadata": {},
   "source": [
    "This chapter goes over approximations to roots, errors and how to find roots."
   ]
  },
  {
   "cell_type": "markdown",
   "metadata": {},
   "source": [
    "### 10.1 Absolute and Relative Errors"
   ]
  },
  {
   "cell_type": "markdown",
   "metadata": {},
   "source": [
    "Consider some algorithm tries to find the value $x^{\\star}$.  If the actual value that the algorithm returns is $x$, there there is an error.  The **absolute error** is defined as\n",
    "\n",
    "$$|x-x^{\\star}$$\n",
    "\n",
    "and the **relative error** is \n",
    "\n",
    "$$\\left|\\frac{x-x^{\\star}}{x^{\\star}}\\right|$$\n",
    "\n",
    "Also, the **percent error** is often used as well and it is the relative error times 100."
   ]
  },
  {
   "cell_type": "markdown",
   "metadata": {},
   "source": [
    "Consider the example if $x^{\\star} = 0.150$ and $x=0.153$, find the absolute, relative and percent error."
   ]
  },
  {
   "cell_type": "code",
   "execution_count": 1,
   "metadata": {},
   "outputs": [
    {
     "data": {
      "text/plain": [
       "0.0030000000000000027"
      ]
     },
     "execution_count": 1,
     "metadata": {},
     "output_type": "execute_result"
    }
   ],
   "source": [
    "xstar = 0.150\n",
    "x = 0.153\n",
    "abs(x-xstar)"
   ]
  },
  {
   "cell_type": "code",
   "execution_count": 2,
   "metadata": {},
   "outputs": [
    {
     "data": {
      "text/plain": [
       "0.020000000000000018"
      ]
     },
     "execution_count": 2,
     "metadata": {},
     "output_type": "execute_result"
    }
   ],
   "source": [
    "abs((x-xstar)/xstar)"
   ]
  },
  {
   "cell_type": "code",
   "execution_count": 3,
   "metadata": {},
   "outputs": [
    {
     "data": {
      "text/plain": [
       "2.0000000000000018"
      ]
     },
     "execution_count": 3,
     "metadata": {},
     "output_type": "execute_result"
    }
   ],
   "source": [
    "100*abs((x-xstar)/xstar)"
   ]
  },
  {
   "cell_type": "markdown",
   "metadata": {},
   "source": [
    "To simplify things in this chapter we will define:"
   ]
  },
  {
   "cell_type": "code",
   "execution_count": 4,
   "metadata": {},
   "outputs": [
    {
     "data": {
      "text/plain": [
       "relErr (generic function with 1 method)"
      ]
     },
     "execution_count": 4,
     "metadata": {},
     "output_type": "execute_result"
    }
   ],
   "source": [
    "absErr(x::Real,xstar::Real) = abs(x-xstar) \n",
    "relErr(x::Real,xstar::Real) = abs((x-xstar)/xstar)"
   ]
  },
  {
   "cell_type": "code",
   "execution_count": 5,
   "metadata": {},
   "outputs": [
    {
     "data": {
      "text/plain": [
       "0.0030000000000000027"
      ]
     },
     "execution_count": 5,
     "metadata": {},
     "output_type": "execute_result"
    }
   ],
   "source": [
    "absErr(0.153,0.15)"
   ]
  },
  {
   "cell_type": "code",
   "execution_count": 6,
   "metadata": {},
   "outputs": [
    {
     "data": {
      "text/plain": [
       "0.020000000000000018"
      ]
     },
     "execution_count": 6,
     "metadata": {},
     "output_type": "execute_result"
    }
   ],
   "source": [
    "relErr(0.153,0.15)"
   ]
  },
  {
   "cell_type": "code",
   "execution_count": 7,
   "metadata": {},
   "outputs": [
    {
     "data": {
      "text/plain": [
       "2.0000000000000018"
      ]
     },
     "execution_count": 7,
     "metadata": {},
     "output_type": "execute_result"
    }
   ],
   "source": [
    "100*relErr(0.153,0.15)"
   ]
  },
  {
   "cell_type": "markdown",
   "metadata": {},
   "source": [
    "### 10.2 Errors in the Quadratic Formula"
   ]
  },
  {
   "cell_type": "markdown",
   "metadata": {},
   "source": [
    "Consider a quadratic function $q(x)=ax^2+bx+c$, we know that the quadratic formula:\n",
    "\n",
    "$$x=\\frac{-b \\pm \\sqrt{b^{2}-4ac} } {2a}$$\n",
    "\n",
    "returns the roots of $q(x)$"
   ]
  },
  {
   "cell_type": "markdown",
   "metadata": {},
   "source": [
    "A simple function that solves this is:"
   ]
  },
  {
   "cell_type": "code",
   "execution_count": 8,
   "metadata": {},
   "outputs": [
    {
     "data": {
      "text/plain": [
       "quad (generic function with 1 method)"
      ]
     },
     "execution_count": 8,
     "metadata": {},
     "output_type": "execute_result"
    }
   ],
   "source": [
    "function quad(a::Real,b::Real,c::Real)\n",
    "  d=sqrt(b^2-4*a*c)\n",
    "  (-b+d)/(2*a),(-b-d)/(2*a)\n",
    "end"
   ]
  },
  {
   "cell_type": "markdown",
   "metadata": {},
   "source": [
    "Let's use this to solve $12.242x^2+42.382x+0.0012=0$ using the quadratic formula"
   ]
  },
  {
   "cell_type": "code",
   "execution_count": 9,
   "metadata": {},
   "outputs": [
    {
     "data": {
      "text/plain": [
       "(-0.002833709737840446, -3.4597479896085646)"
      ]
     },
     "execution_count": 9,
     "metadata": {},
     "output_type": "execute_result"
    }
   ],
   "source": [
    "x64a,x64b = quad(12.24,42.382,0.12)"
   ]
  },
  {
   "cell_type": "markdown",
   "metadata": {},
   "source": [
    "If instead we used 16-bit floating point numbers then"
   ]
  },
  {
   "cell_type": "code",
   "execution_count": 10,
   "metadata": {},
   "outputs": [
    {
     "data": {
      "text/plain": [
       "(Float16(-0.002552), Float16(-3.459))"
      ]
     },
     "execution_count": 10,
     "metadata": {},
     "output_type": "execute_result"
    }
   ],
   "source": [
    "x16a,x16b = quad(Float16(12.24),Float16(42.382),Float16(0.12))"
   ]
  },
  {
   "cell_type": "markdown",
   "metadata": {},
   "source": [
    "If we assume that 64-bit roots are exact and the 16-bit roots are approximations, then the absolute errors are:"
   ]
  },
  {
   "cell_type": "code",
   "execution_count": 11,
   "metadata": {},
   "outputs": [
    {
     "data": {
      "text/plain": [
       "(0.0002816772671373211, 0.0007636146085645557)"
      ]
     },
     "execution_count": 11,
     "metadata": {},
     "output_type": "execute_result"
    }
   ],
   "source": [
    "absErr(x16a,x64a),absErr(x16b,x64b)"
   ]
  },
  {
   "cell_type": "markdown",
   "metadata": {},
   "source": [
    "And the relative errors are:"
   ]
  },
  {
   "cell_type": "code",
   "execution_count": 12,
   "metadata": {},
   "outputs": [
    {
     "data": {
      "text/plain": [
       "(0.0994023005870692, 0.00022071393952914788)"
      ]
     },
     "execution_count": 12,
     "metadata": {},
     "output_type": "execute_result"
    }
   ],
   "source": [
    "relErr(x16a,x64a),relErr(x16b,x64b)"
   ]
  },
  {
   "cell_type": "markdown",
   "metadata": {},
   "source": [
    "Although these don't seem like much of an error, the percent error on the first one would be nearly 10% which is quite large."
   ]
  },
  {
   "cell_type": "markdown",
   "metadata": {},
   "source": [
    "What happened?   In the example of the quadratic formula: $12.242x^2+42.382x+0.0012=0$, then $b=42.382$ and $\\sqrt{b^2-4ac}$ is"
   ]
  },
  {
   "cell_type": "code",
   "execution_count": 13,
   "metadata": {},
   "outputs": [
    {
     "data": {
      "text/plain": [
       "42.38130675663505"
      ]
     },
     "execution_count": 13,
     "metadata": {},
     "output_type": "execute_result"
    }
   ],
   "source": [
    "sqrt(42.382^2-4*0.0012*12.242)"
   ]
  },
  {
   "cell_type": "markdown",
   "metadata": {},
   "source": [
    "Is very close to $b$ so we they are subtracted you get round off."
   ]
  },
  {
   "cell_type": "markdown",
   "metadata": {},
   "source": [
    "### 10.3: Revisting the Quadratic Equation"
   ]
  },
  {
   "cell_type": "markdown",
   "metadata": {},
   "source": [
    "Does the above example mean that we can't use the quadratic equation?  Well, no.  Here's how we can rewrite the quadratic.\n",
    "\n",
    "Assume that $b>0$, then root from the quadratic formula that is most problematic is:\n",
    "\n",
    "$$\\frac{-b+\\sqrt{b^2-4ac}}{2a}$$\n",
    "\n",
    "We can rearrange this to switch to an addition problem."
   ]
  },
  {
   "cell_type": "code",
   "execution_count": 14,
   "metadata": {},
   "outputs": [
    {
     "data": {
      "text/plain": [
       "quad2 (generic function with 1 method)"
      ]
     },
     "execution_count": 14,
     "metadata": {},
     "output_type": "execute_result"
    }
   ],
   "source": [
    "function quad2(a::Real,b::Real,c::Real)\n",
    "  d=sqrt(b^2-4*a*c)\n",
    "  return -2c/(b+d),-2c/(b-d)\n",
    "end"
   ]
  },
  {
   "cell_type": "code",
   "execution_count": 15,
   "metadata": {},
   "outputs": [
    {
     "data": {
      "text/plain": [
       "(-0.002833709737840375, -3.459747989608478)"
      ]
     },
     "execution_count": 15,
     "metadata": {},
     "output_type": "execute_result"
    }
   ],
   "source": [
    "x64c,x64d = quad2(12.24,42.382,0.12)"
   ]
  },
  {
   "cell_type": "code",
   "execution_count": 16,
   "metadata": {},
   "outputs": [
    {
     "data": {
      "text/plain": [
       "(Float16(-0.002834), Float16(-3.84))"
      ]
     },
     "execution_count": 16,
     "metadata": {},
     "output_type": "execute_result"
    }
   ],
   "source": [
    "x16c,x16d = quad2(Float16(12.24),Float16(42.382),Float16(0.12))"
   ]
  },
  {
   "cell_type": "code",
   "execution_count": 17,
   "metadata": {},
   "outputs": [
    {
     "data": {
      "text/plain": [
       "(6.103305190000366e-7, 0.38009576039152204)"
      ]
     },
     "execution_count": 17,
     "metadata": {},
     "output_type": "execute_result"
    }
   ],
   "source": [
    "absErr(x16c,x64c),absErr(x16d,x64d)"
   ]
  },
  {
   "cell_type": "code",
   "execution_count": 18,
   "metadata": {},
   "outputs": [
    {
     "data": {
      "text/plain": [
       "(0.00021538215818292712, 0.10986226786839914)"
      ]
     },
     "execution_count": 18,
     "metadata": {},
     "output_type": "execute_result"
    }
   ],
   "source": [
    "relErr(x16c,x64c),relErr(x16d,x64d)"
   ]
  },
  {
   "cell_type": "markdown",
   "metadata": {},
   "source": [
    "Note that the first solution is quite close, but this time the second one has error of about 11%."
   ]
  },
  {
   "cell_type": "markdown",
   "metadata": {},
   "source": [
    "In your homework, you will write a function that chooses which of the two quadratic formulas to select to get a good result."
   ]
  },
  {
   "cell_type": "markdown",
   "metadata": {},
   "source": [
    "### Searching for roots of functions that are hard to find:"
   ]
  },
  {
   "cell_type": "code",
   "execution_count": 19,
   "metadata": {},
   "outputs": [],
   "source": [
    "using Plots"
   ]
  },
  {
   "cell_type": "code",
   "execution_count": 20,
   "metadata": {},
   "outputs": [
    {
     "data": {
      "image/svg+xml": [
       "<?xml version=\"1.0\" encoding=\"utf-8\"?>\n",
       "<svg xmlns=\"http://www.w3.org/2000/svg\" xmlns:xlink=\"http://www.w3.org/1999/xlink\" width=\"600\" height=\"400\" viewBox=\"0 0 2400 1600\">\n",
       "<defs>\n",
       "  <clipPath id=\"clip030\">\n",
       "    <rect x=\"0\" y=\"0\" width=\"2400\" height=\"1600\"/>\n",
       "  </clipPath>\n",
       "</defs>\n",
       "<path clip-path=\"url(#clip030)\" d=\"\n",
       "M0 1600 L2400 1600 L2400 0 L0 0  Z\n",
       "  \" fill=\"#ffffff\" fill-rule=\"evenodd\" fill-opacity=\"1\"/>\n",
       "<defs>\n",
       "  <clipPath id=\"clip031\">\n",
       "    <rect x=\"480\" y=\"0\" width=\"1681\" height=\"1600\"/>\n",
       "  </clipPath>\n",
       "</defs>\n",
       "<path clip-path=\"url(#clip030)\" d=\"\n",
       "M142.455 1486.45 L2352.76 1486.45 L2352.76 47.2441 L142.455 47.2441  Z\n",
       "  \" fill=\"#ffffff\" fill-rule=\"evenodd\" fill-opacity=\"1\"/>\n",
       "<defs>\n",
       "  <clipPath id=\"clip032\">\n",
       "    <rect x=\"142\" y=\"47\" width=\"2211\" height=\"1440\"/>\n",
       "  </clipPath>\n",
       "</defs>\n",
       "<polyline clip-path=\"url(#clip032)\" style=\"stroke:#000000; stroke-width:2; stroke-opacity:0.1; fill:none\" points=\"\n",
       "  205.01,1486.45 205.01,47.2441 \n",
       "  \"/>\n",
       "<polyline clip-path=\"url(#clip032)\" style=\"stroke:#000000; stroke-width:2; stroke-opacity:0.1; fill:none\" points=\"\n",
       "  726.308,1486.45 726.308,47.2441 \n",
       "  \"/>\n",
       "<polyline clip-path=\"url(#clip032)\" style=\"stroke:#000000; stroke-width:2; stroke-opacity:0.1; fill:none\" points=\"\n",
       "  1247.61,1486.45 1247.61,47.2441 \n",
       "  \"/>\n",
       "<polyline clip-path=\"url(#clip032)\" style=\"stroke:#000000; stroke-width:2; stroke-opacity:0.1; fill:none\" points=\"\n",
       "  1768.9,1486.45 1768.9,47.2441 \n",
       "  \"/>\n",
       "<polyline clip-path=\"url(#clip032)\" style=\"stroke:#000000; stroke-width:2; stroke-opacity:0.1; fill:none\" points=\"\n",
       "  2290.2,1486.45 2290.2,47.2441 \n",
       "  \"/>\n",
       "<polyline clip-path=\"url(#clip030)\" style=\"stroke:#000000; stroke-width:4; stroke-opacity:1; fill:none\" points=\"\n",
       "  142.455,1486.45 2352.76,1486.45 \n",
       "  \"/>\n",
       "<polyline clip-path=\"url(#clip030)\" style=\"stroke:#000000; stroke-width:4; stroke-opacity:1; fill:none\" points=\"\n",
       "  205.01,1486.45 205.01,1469.18 \n",
       "  \"/>\n",
       "<polyline clip-path=\"url(#clip030)\" style=\"stroke:#000000; stroke-width:4; stroke-opacity:1; fill:none\" points=\"\n",
       "  726.308,1486.45 726.308,1469.18 \n",
       "  \"/>\n",
       "<polyline clip-path=\"url(#clip030)\" style=\"stroke:#000000; stroke-width:4; stroke-opacity:1; fill:none\" points=\"\n",
       "  1247.61,1486.45 1247.61,1469.18 \n",
       "  \"/>\n",
       "<polyline clip-path=\"url(#clip030)\" style=\"stroke:#000000; stroke-width:4; stroke-opacity:1; fill:none\" points=\"\n",
       "  1768.9,1486.45 1768.9,1469.18 \n",
       "  \"/>\n",
       "<polyline clip-path=\"url(#clip030)\" style=\"stroke:#000000; stroke-width:4; stroke-opacity:1; fill:none\" points=\"\n",
       "  2290.2,1486.45 2290.2,1469.18 \n",
       "  \"/>\n",
       "<path clip-path=\"url(#clip030)\" d=\"M 0 0 M186.527 1515.64 Q182.916 1515.64 181.087 1519.2 Q179.281 1522.75 179.281 1529.87 Q179.281 1536.98 181.087 1540.55 Q182.916 1544.09 186.527 1544.09 Q190.161 1544.09 191.967 1540.55 Q193.795 1536.98 193.795 1529.87 Q193.795 1522.75 191.967 1519.2 Q190.161 1515.64 186.527 1515.64 M186.527 1511.93 Q192.337 1511.93 195.392 1516.54 Q198.471 1521.12 198.471 1529.87 Q198.471 1538.6 195.392 1543.21 Q192.337 1547.79 186.527 1547.79 Q180.717 1547.79 177.638 1543.21 Q174.582 1538.6 174.582 1529.87 Q174.582 1521.12 177.638 1516.54 Q180.717 1511.93 186.527 1511.93 Z\" fill=\"#000000\" fill-rule=\"evenodd\" fill-opacity=\"1\" /><path clip-path=\"url(#clip030)\" d=\"M 0 0 M203.541 1541.24 L208.425 1541.24 L208.425 1547.12 L203.541 1547.12 L203.541 1541.24 Z\" fill=\"#000000\" fill-rule=\"evenodd\" fill-opacity=\"1\" /><path clip-path=\"url(#clip030)\" d=\"M 0 0 M223.494 1515.64 Q219.883 1515.64 218.054 1519.2 Q216.249 1522.75 216.249 1529.87 Q216.249 1536.98 218.054 1540.55 Q219.883 1544.09 223.494 1544.09 Q227.128 1544.09 228.934 1540.55 Q230.763 1536.98 230.763 1529.87 Q230.763 1522.75 228.934 1519.2 Q227.128 1515.64 223.494 1515.64 M223.494 1511.93 Q229.304 1511.93 232.36 1516.54 Q235.439 1521.12 235.439 1529.87 Q235.439 1538.6 232.36 1543.21 Q229.304 1547.79 223.494 1547.79 Q217.684 1547.79 214.605 1543.21 Q211.55 1538.6 211.55 1529.87 Q211.55 1521.12 214.605 1516.54 Q217.684 1511.93 223.494 1511.93 Z\" fill=\"#000000\" fill-rule=\"evenodd\" fill-opacity=\"1\" /><path clip-path=\"url(#clip030)\" d=\"M 0 0 M708.322 1515.64 Q704.711 1515.64 702.882 1519.2 Q701.077 1522.75 701.077 1529.87 Q701.077 1536.98 702.882 1540.55 Q704.711 1544.09 708.322 1544.09 Q711.956 1544.09 713.762 1540.55 Q715.59 1536.98 715.59 1529.87 Q715.59 1522.75 713.762 1519.2 Q711.956 1515.64 708.322 1515.64 M708.322 1511.93 Q714.132 1511.93 717.188 1516.54 Q720.266 1521.12 720.266 1529.87 Q720.266 1538.6 717.188 1543.21 Q714.132 1547.79 708.322 1547.79 Q702.512 1547.79 699.433 1543.21 Q696.378 1538.6 696.378 1529.87 Q696.378 1521.12 699.433 1516.54 Q702.512 1511.93 708.322 1511.93 Z\" fill=\"#000000\" fill-rule=\"evenodd\" fill-opacity=\"1\" /><path clip-path=\"url(#clip030)\" d=\"M 0 0 M725.336 1541.24 L730.22 1541.24 L730.22 1547.12 L725.336 1547.12 L725.336 1541.24 Z\" fill=\"#000000\" fill-rule=\"evenodd\" fill-opacity=\"1\" /><path clip-path=\"url(#clip030)\" d=\"M 0 0 M735.336 1512.56 L753.692 1512.56 L753.692 1516.5 L739.618 1516.5 L739.618 1524.97 Q740.637 1524.62 741.655 1524.46 Q742.674 1524.27 743.692 1524.27 Q749.479 1524.27 752.859 1527.44 Q756.238 1530.62 756.238 1536.03 Q756.238 1541.61 752.766 1544.71 Q749.294 1547.79 742.974 1547.79 Q740.799 1547.79 738.53 1547.42 Q736.285 1547.05 733.877 1546.31 L733.877 1541.61 Q735.961 1542.74 738.183 1543.3 Q740.405 1543.86 742.882 1543.86 Q746.887 1543.86 749.224 1541.75 Q751.562 1539.64 751.562 1536.03 Q751.562 1532.42 749.224 1530.31 Q746.887 1528.21 742.882 1528.21 Q741.007 1528.21 739.132 1528.62 Q737.28 1529.04 735.336 1529.92 L735.336 1512.56 Z\" fill=\"#000000\" fill-rule=\"evenodd\" fill-opacity=\"1\" /><path clip-path=\"url(#clip030)\" d=\"M 0 0 M1219.5 1543.18 L1227.14 1543.18 L1227.14 1516.82 L1218.83 1518.49 L1218.83 1514.23 L1227.1 1512.56 L1231.77 1512.56 L1231.77 1543.18 L1239.41 1543.18 L1239.41 1547.12 L1219.5 1547.12 L1219.5 1543.18 Z\" fill=\"#000000\" fill-rule=\"evenodd\" fill-opacity=\"1\" /><path clip-path=\"url(#clip030)\" d=\"M 0 0 M1244.48 1541.24 L1249.36 1541.24 L1249.36 1547.12 L1244.48 1547.12 L1244.48 1541.24 Z\" fill=\"#000000\" fill-rule=\"evenodd\" fill-opacity=\"1\" /><path clip-path=\"url(#clip030)\" d=\"M 0 0 M1264.43 1515.64 Q1260.82 1515.64 1258.99 1519.2 Q1257.19 1522.75 1257.19 1529.87 Q1257.19 1536.98 1258.99 1540.55 Q1260.82 1544.09 1264.43 1544.09 Q1268.07 1544.09 1269.87 1540.55 Q1271.7 1536.98 1271.7 1529.87 Q1271.7 1522.75 1269.87 1519.2 Q1268.07 1515.64 1264.43 1515.64 M1264.43 1511.93 Q1270.24 1511.93 1273.3 1516.54 Q1276.38 1521.12 1276.38 1529.87 Q1276.38 1538.6 1273.3 1543.21 Q1270.24 1547.79 1264.43 1547.79 Q1258.62 1547.79 1255.55 1543.21 Q1252.49 1538.6 1252.49 1529.87 Q1252.49 1521.12 1255.55 1516.54 Q1258.62 1511.93 1264.43 1511.93 Z\" fill=\"#000000\" fill-rule=\"evenodd\" fill-opacity=\"1\" /><path clip-path=\"url(#clip030)\" d=\"M 0 0 M1741.3 1543.18 L1748.94 1543.18 L1748.94 1516.82 L1740.63 1518.49 L1740.63 1514.23 L1748.89 1512.56 L1753.57 1512.56 L1753.57 1543.18 L1761.21 1543.18 L1761.21 1547.12 L1741.3 1547.12 L1741.3 1543.18 Z\" fill=\"#000000\" fill-rule=\"evenodd\" fill-opacity=\"1\" /><path clip-path=\"url(#clip030)\" d=\"M 0 0 M1766.28 1541.24 L1771.16 1541.24 L1771.16 1547.12 L1766.28 1547.12 L1766.28 1541.24 Z\" fill=\"#000000\" fill-rule=\"evenodd\" fill-opacity=\"1\" /><path clip-path=\"url(#clip030)\" d=\"M 0 0 M1776.28 1512.56 L1794.63 1512.56 L1794.63 1516.5 L1780.56 1516.5 L1780.56 1524.97 Q1781.58 1524.62 1782.59 1524.46 Q1783.61 1524.27 1784.63 1524.27 Q1790.42 1524.27 1793.8 1527.44 Q1797.18 1530.62 1797.18 1536.03 Q1797.18 1541.61 1793.71 1544.71 Q1790.23 1547.79 1783.91 1547.79 Q1781.74 1547.79 1779.47 1547.42 Q1777.22 1547.05 1774.82 1546.31 L1774.82 1541.61 Q1776.9 1542.74 1779.12 1543.3 Q1781.34 1543.86 1783.82 1543.86 Q1787.83 1543.86 1790.16 1541.75 Q1792.5 1539.64 1792.5 1536.03 Q1792.5 1532.42 1790.16 1530.31 Q1787.83 1528.21 1783.82 1528.21 Q1781.95 1528.21 1780.07 1528.62 Q1778.22 1529.04 1776.28 1529.92 L1776.28 1512.56 Z\" fill=\"#000000\" fill-rule=\"evenodd\" fill-opacity=\"1\" /><path clip-path=\"url(#clip030)\" d=\"M 0 0 M2266.37 1543.18 L2282.69 1543.18 L2282.69 1547.12 L2260.74 1547.12 L2260.74 1543.18 Q2263.41 1540.43 2267.99 1535.8 Q2272.6 1531.15 2273.78 1529.81 Q2276.02 1527.28 2276.9 1525.55 Q2277.8 1523.79 2277.8 1522.1 Q2277.8 1519.34 2275.86 1517.61 Q2273.94 1515.87 2270.84 1515.87 Q2268.64 1515.87 2266.18 1516.63 Q2263.75 1517.4 2260.98 1518.95 L2260.98 1514.23 Q2263.8 1513.09 2266.25 1512.51 Q2268.71 1511.93 2270.74 1511.93 Q2276.11 1511.93 2279.31 1514.62 Q2282.5 1517.31 2282.5 1521.8 Q2282.5 1523.93 2281.69 1525.85 Q2280.91 1527.74 2278.8 1530.34 Q2278.22 1531.01 2275.12 1534.23 Q2272.02 1537.42 2266.37 1543.18 Z\" fill=\"#000000\" fill-rule=\"evenodd\" fill-opacity=\"1\" /><path clip-path=\"url(#clip030)\" d=\"M 0 0 M2287.76 1541.24 L2292.64 1541.24 L2292.64 1547.12 L2287.76 1547.12 L2287.76 1541.24 Z\" fill=\"#000000\" fill-rule=\"evenodd\" fill-opacity=\"1\" /><path clip-path=\"url(#clip030)\" d=\"M 0 0 M2307.71 1515.64 Q2304.1 1515.64 2302.27 1519.2 Q2300.47 1522.75 2300.47 1529.87 Q2300.47 1536.98 2302.27 1540.55 Q2304.1 1544.09 2307.71 1544.09 Q2311.35 1544.09 2313.15 1540.55 Q2314.98 1536.98 2314.98 1529.87 Q2314.98 1522.75 2313.15 1519.2 Q2311.35 1515.64 2307.71 1515.64 M2307.71 1511.93 Q2313.52 1511.93 2316.58 1516.54 Q2319.66 1521.12 2319.66 1529.87 Q2319.66 1538.6 2316.58 1543.21 Q2313.52 1547.79 2307.71 1547.79 Q2301.9 1547.79 2298.82 1543.21 Q2295.77 1538.6 2295.77 1529.87 Q2295.77 1521.12 2298.82 1516.54 Q2301.9 1511.93 2307.71 1511.93 Z\" fill=\"#000000\" fill-rule=\"evenodd\" fill-opacity=\"1\" /><polyline clip-path=\"url(#clip032)\" style=\"stroke:#000000; stroke-width:2; stroke-opacity:0.1; fill:none\" points=\"\n",
       "  142.455,1445.72 2352.76,1445.72 \n",
       "  \"/>\n",
       "<polyline clip-path=\"url(#clip032)\" style=\"stroke:#000000; stroke-width:2; stroke-opacity:0.1; fill:none\" points=\"\n",
       "  142.455,1048.27 2352.76,1048.27 \n",
       "  \"/>\n",
       "<polyline clip-path=\"url(#clip032)\" style=\"stroke:#000000; stroke-width:2; stroke-opacity:0.1; fill:none\" points=\"\n",
       "  142.455,650.82 2352.76,650.82 \n",
       "  \"/>\n",
       "<polyline clip-path=\"url(#clip032)\" style=\"stroke:#000000; stroke-width:2; stroke-opacity:0.1; fill:none\" points=\"\n",
       "  142.455,253.373 2352.76,253.373 \n",
       "  \"/>\n",
       "<polyline clip-path=\"url(#clip030)\" style=\"stroke:#000000; stroke-width:4; stroke-opacity:1; fill:none\" points=\"\n",
       "  142.455,1486.45 142.455,47.2441 \n",
       "  \"/>\n",
       "<polyline clip-path=\"url(#clip030)\" style=\"stroke:#000000; stroke-width:4; stroke-opacity:1; fill:none\" points=\"\n",
       "  142.455,1445.72 168.978,1445.72 \n",
       "  \"/>\n",
       "<polyline clip-path=\"url(#clip030)\" style=\"stroke:#000000; stroke-width:4; stroke-opacity:1; fill:none\" points=\"\n",
       "  142.455,1048.27 168.978,1048.27 \n",
       "  \"/>\n",
       "<polyline clip-path=\"url(#clip030)\" style=\"stroke:#000000; stroke-width:4; stroke-opacity:1; fill:none\" points=\"\n",
       "  142.455,650.82 168.978,650.82 \n",
       "  \"/>\n",
       "<polyline clip-path=\"url(#clip030)\" style=\"stroke:#000000; stroke-width:4; stroke-opacity:1; fill:none\" points=\"\n",
       "  142.455,253.373 168.978,253.373 \n",
       "  \"/>\n",
       "<path clip-path=\"url(#clip030)\" d=\"M 0 0 M50.9921 1446.17 L80.6679 1446.17 L80.6679 1450.1 L50.9921 1450.1 L50.9921 1446.17 Z\" fill=\"#000000\" fill-rule=\"evenodd\" fill-opacity=\"1\" /><path clip-path=\"url(#clip030)\" d=\"M 0 0 M86.5475 1459.06 L94.1863 1459.06 L94.1863 1432.69 L85.8762 1434.36 L85.8762 1430.1 L94.14 1428.44 L98.8159 1428.44 L98.8159 1459.06 L106.455 1459.06 L106.455 1463 L86.5475 1463 L86.5475 1459.06 Z\" fill=\"#000000\" fill-rule=\"evenodd\" fill-opacity=\"1\" /><path clip-path=\"url(#clip030)\" d=\"M 0 0 M94.5104 1034.07 Q90.8993 1034.07 89.0706 1037.63 Q87.2651 1041.17 87.2651 1048.3 Q87.2651 1055.41 89.0706 1058.97 Q90.8993 1062.52 94.5104 1062.52 Q98.1447 1062.52 99.9502 1058.97 Q101.779 1055.41 101.779 1048.3 Q101.779 1041.17 99.9502 1037.63 Q98.1447 1034.07 94.5104 1034.07 M94.5104 1030.36 Q100.321 1030.36 103.376 1034.97 Q106.455 1039.55 106.455 1048.3 Q106.455 1057.03 103.376 1061.64 Q100.321 1066.22 94.5104 1066.22 Q88.7003 1066.22 85.6216 1061.64 Q82.566 1057.03 82.566 1048.3 Q82.566 1039.55 85.6216 1034.97 Q88.7003 1030.36 94.5104 1030.36 Z\" fill=\"#000000\" fill-rule=\"evenodd\" fill-opacity=\"1\" /><path clip-path=\"url(#clip030)\" d=\"M 0 0 M86.5475 664.165 L94.1863 664.165 L94.1863 637.8 L85.8762 639.466 L85.8762 635.207 L94.14 633.54 L98.8159 633.54 L98.8159 664.165 L106.455 664.165 L106.455 668.1 L86.5475 668.1 L86.5475 664.165 Z\" fill=\"#000000\" fill-rule=\"evenodd\" fill-opacity=\"1\" /><path clip-path=\"url(#clip030)\" d=\"M 0 0 M90.1354 266.718 L106.455 266.718 L106.455 270.653 L84.5105 270.653 L84.5105 266.718 Q87.1725 263.963 91.7558 259.333 Q96.3623 254.681 97.5428 253.338 Q99.7882 250.815 100.668 249.079 Q101.571 247.32 101.571 245.63 Q101.571 242.875 99.6261 241.139 Q97.7048 239.403 94.603 239.403 Q92.4039 239.403 89.9503 240.167 Q87.5197 240.931 84.7419 242.482 L84.7419 237.76 Q87.566 236.625 90.0197 236.047 Q92.4734 235.468 94.5104 235.468 Q99.8808 235.468 103.075 238.153 Q106.27 240.838 106.27 245.329 Q106.27 247.459 105.459 249.38 Q104.672 251.278 102.566 253.871 Q101.987 254.542 98.8854 257.759 Q95.7836 260.954 90.1354 266.718 Z\" fill=\"#000000\" fill-rule=\"evenodd\" fill-opacity=\"1\" /><polyline clip-path=\"url(#clip032)\" style=\"stroke:#009af9; stroke-width:4; stroke-opacity:1; fill:none\" points=\"\n",
       "  205.01,1445.72 225.374,1437.88 413.665,1358.24 526.82,1304.26 622.491,1255.13 726.416,1198.28 822.226,1142.79 924.945,1080.22 1043.95,1004.02 1149.72,933.287 \n",
       "  1242.46,869.172 1343.58,797.327 1445.29,723.32 1557.75,639.873 1664.75,559.31 1776.01,474.796 1869.67,403.409 1984.01,316.395 2091.5,235.179 2263.7,107.317 \n",
       "  2290.2,87.9763 \n",
       "  \"/>\n",
       "<path clip-path=\"url(#clip030)\" d=\"\n",
       "M1982.47 216.178 L2279.08 216.178 L2279.08 95.2176 L1982.47 95.2176  Z\n",
       "  \" fill=\"#ffffff\" fill-rule=\"evenodd\" fill-opacity=\"1\"/>\n",
       "<polyline clip-path=\"url(#clip030)\" style=\"stroke:#000000; stroke-width:4; stroke-opacity:1; fill:none\" points=\"\n",
       "  1982.47,216.178 2279.08,216.178 2279.08,95.2176 1982.47,95.2176 1982.47,216.178 \n",
       "  \"/>\n",
       "<polyline clip-path=\"url(#clip030)\" style=\"stroke:#009af9; stroke-width:4; stroke-opacity:1; fill:none\" points=\"\n",
       "  2007.03,155.698 2154.38,155.698 \n",
       "  \"/>\n",
       "<path clip-path=\"url(#clip030)\" d=\"M 0 0 M2192.79 175.385 Q2190.98 180.015 2189.27 181.427 Q2187.55 182.839 2184.68 182.839 L2181.28 182.839 L2181.28 179.274 L2183.78 179.274 Q2185.54 179.274 2186.51 178.44 Q2187.48 177.607 2188.67 174.505 L2189.43 172.561 L2178.94 147.052 L2183.46 147.052 L2191.56 167.329 L2199.66 147.052 L2204.17 147.052 L2192.79 175.385 Z\" fill=\"#000000\" fill-rule=\"evenodd\" fill-opacity=\"1\" /><path clip-path=\"url(#clip030)\" d=\"M 0 0 M2210.05 169.042 L2217.69 169.042 L2217.69 142.677 L2209.38 144.343 L2209.38 140.084 L2217.65 138.418 L2222.32 138.418 L2222.32 169.042 L2229.96 169.042 L2229.96 172.978 L2210.05 172.978 L2210.05 169.042 Z\" fill=\"#000000\" fill-rule=\"evenodd\" fill-opacity=\"1\" /></svg>\n"
      ]
     },
     "execution_count": 20,
     "metadata": {},
     "output_type": "execute_result"
    }
   ],
   "source": [
    "plot(x->x-cos(x),0,2)"
   ]
  },
  {
   "cell_type": "code",
   "execution_count": 22,
   "metadata": {},
   "outputs": [
    {
     "data": {
      "text/plain": [
       "bisect (generic function with 1 method)"
      ]
     },
     "execution_count": 22,
     "metadata": {},
     "output_type": "execute_result"
    }
   ],
   "source": [
    "function bisect(f::Function,a::Real,b::Real)\n",
    "  local mid = 0.5*(a+b)  # find the midpoint\n",
    "  if abs(b-a)<1e-6\n",
    "    return mid\n",
    "  elseif f(a)*f(mid)<0\n",
    "    return bisect(f,a,mid)\n",
    "  else\n",
    "    return bisect(f,mid,b)\n",
    "  end\n",
    "end"
   ]
  },
  {
   "cell_type": "code",
   "execution_count": 23,
   "metadata": {},
   "outputs": [
    {
     "data": {
      "text/plain": [
       "0.7390847206115723"
      ]
     },
     "execution_count": 23,
     "metadata": {},
     "output_type": "execute_result"
    }
   ],
   "source": [
    "bisect(x->x-cos(x),0,2)"
   ]
  },
  {
   "cell_type": "markdown",
   "metadata": {},
   "source": [
    "### 10.4: Newton's method"
   ]
  },
  {
   "cell_type": "markdown",
   "metadata": {},
   "source": [
    "Newton's method is a common method used to find roots of equations.  You probably saw Newton's method in Calculus and the idea is to approximate the root by using the tangent line (and finding the root).  This is repeatedly done.  In short, this results in the following iterative formula:\n",
    "\n",
    "$$x_{n+1} = x_n - \\frac{f(x_n)}{f'(x_n)}$$"
   ]
  },
  {
   "cell_type": "markdown",
   "metadata": {},
   "source": [
    "We can write this as a julia function with:"
   ]
  },
  {
   "cell_type": "code",
   "execution_count": 24,
   "metadata": {},
   "outputs": [
    {
     "data": {
      "text/plain": [
       "newton (generic function with 1 method)"
      ]
     },
     "execution_count": 24,
     "metadata": {},
     "output_type": "execute_result"
    }
   ],
   "source": [
    "function newton(f::Function, df::Function, x0::Real)\n",
    "  local dx=f(x0)/df(x0)\n",
    "  while abs(dx)>1e-6\n",
    "    x0 = x0-dx\n",
    "    dx = f(x0)/df(x0)\n",
    "  end\n",
    "  x0  \n",
    "end"
   ]
  },
  {
   "cell_type": "code",
   "execution_count": 25,
   "metadata": {},
   "outputs": [
    {
     "data": {
      "text/plain": [
       "-0.8000005020976213"
      ]
     },
     "execution_count": 25,
     "metadata": {},
     "output_type": "execute_result"
    }
   ],
   "source": [
    "newton(x->15x^3-143x^2+226x+280,x->45x^2-286x+226,0)"
   ]
  },
  {
   "cell_type": "code",
   "execution_count": 26,
   "metadata": {},
   "outputs": [
    {
     "data": {
      "text/plain": [
       "-0.7999997138977051"
      ]
     },
     "execution_count": 26,
     "metadata": {},
     "output_type": "execute_result"
    }
   ],
   "source": [
    "bisect(x->15x^3-143x^2+226x+280,-1,0)"
   ]
  },
  {
   "cell_type": "markdown",
   "metadata": {},
   "source": [
    "### 10.4.2: Automatic Differentiation"
   ]
  },
  {
   "cell_type": "markdown",
   "metadata": {},
   "source": [
    "It's a bit of a pain to have to put in the derivative as well.  Fortunately, there is a nice technique called **automatic differentiation** to find the exact value of derivative at a point.  It's not symbolic differentiation, which would generate a function, but it works perfectly for Newton's method.  Here's how this works. \n",
    "\n",
    "First, add the `ForwardDiff` package if you haven't"
   ]
  },
  {
   "cell_type": "code",
   "execution_count": 27,
   "metadata": {},
   "outputs": [],
   "source": [
    "using ForwardDiff"
   ]
  },
  {
   "cell_type": "code",
   "execution_count": 28,
   "metadata": {},
   "outputs": [
    {
     "data": {
      "text/plain": [
       "6"
      ]
     },
     "execution_count": 28,
     "metadata": {},
     "output_type": "execute_result"
    }
   ],
   "source": [
    "ForwardDiff.derivative(x->x^2,3)"
   ]
  },
  {
   "cell_type": "code",
   "execution_count": 29,
   "metadata": {},
   "outputs": [
    {
     "data": {
      "text/plain": [
       "f (generic function with 1 method)"
      ]
     },
     "execution_count": 29,
     "metadata": {},
     "output_type": "execute_result"
    }
   ],
   "source": [
    "f(x)=exp(x^2+cos(sqrt(x)))"
   ]
  },
  {
   "cell_type": "code",
   "execution_count": 34,
   "metadata": {},
   "outputs": [
    {
     "data": {
      "text/plain": [
       "1.4847374790394043"
      ]
     },
     "execution_count": 34,
     "metadata": {},
     "output_type": "execute_result"
    }
   ],
   "source": [
    "ForwardDiff.derivative(f,0.5)"
   ]
  },
  {
   "cell_type": "code",
   "execution_count": 35,
   "metadata": {},
   "outputs": [
    {
     "data": {
      "image/svg+xml": [
       "<?xml version=\"1.0\" encoding=\"utf-8\"?>\n",
       "<svg xmlns=\"http://www.w3.org/2000/svg\" xmlns:xlink=\"http://www.w3.org/1999/xlink\" width=\"600\" height=\"400\" viewBox=\"0 0 2400 1600\">\n",
       "<defs>\n",
       "  <clipPath id=\"clip110\">\n",
       "    <rect x=\"0\" y=\"0\" width=\"2400\" height=\"1600\"/>\n",
       "  </clipPath>\n",
       "</defs>\n",
       "<path clip-path=\"url(#clip110)\" d=\"\n",
       "M0 1600 L2400 1600 L2400 0 L0 0  Z\n",
       "  \" fill=\"#ffffff\" fill-rule=\"evenodd\" fill-opacity=\"1\"/>\n",
       "<defs>\n",
       "  <clipPath id=\"clip111\">\n",
       "    <rect x=\"480\" y=\"0\" width=\"1681\" height=\"1600\"/>\n",
       "  </clipPath>\n",
       "</defs>\n",
       "<path clip-path=\"url(#clip110)\" d=\"\n",
       "M149.145 1486.45 L2352.76 1486.45 L2352.76 47.2441 L149.145 47.2441  Z\n",
       "  \" fill=\"#ffffff\" fill-rule=\"evenodd\" fill-opacity=\"1\"/>\n",
       "<defs>\n",
       "  <clipPath id=\"clip112\">\n",
       "    <rect x=\"149\" y=\"47\" width=\"2205\" height=\"1440\"/>\n",
       "  </clipPath>\n",
       "</defs>\n",
       "<polyline clip-path=\"url(#clip112)\" style=\"stroke:#000000; stroke-width:2; stroke-opacity:0.1; fill:none\" points=\"\n",
       "  211.511,1486.45 211.511,47.2441 \n",
       "  \"/>\n",
       "<polyline clip-path=\"url(#clip112)\" style=\"stroke:#000000; stroke-width:2; stroke-opacity:0.1; fill:none\" points=\"\n",
       "  731.231,1486.45 731.231,47.2441 \n",
       "  \"/>\n",
       "<polyline clip-path=\"url(#clip112)\" style=\"stroke:#000000; stroke-width:2; stroke-opacity:0.1; fill:none\" points=\"\n",
       "  1250.95,1486.45 1250.95,47.2441 \n",
       "  \"/>\n",
       "<polyline clip-path=\"url(#clip112)\" style=\"stroke:#000000; stroke-width:2; stroke-opacity:0.1; fill:none\" points=\"\n",
       "  1770.67,1486.45 1770.67,47.2441 \n",
       "  \"/>\n",
       "<polyline clip-path=\"url(#clip112)\" style=\"stroke:#000000; stroke-width:2; stroke-opacity:0.1; fill:none\" points=\"\n",
       "  2290.39,1486.45 2290.39,47.2441 \n",
       "  \"/>\n",
       "<polyline clip-path=\"url(#clip110)\" style=\"stroke:#000000; stroke-width:4; stroke-opacity:1; fill:none\" points=\"\n",
       "  149.145,1486.45 2352.76,1486.45 \n",
       "  \"/>\n",
       "<polyline clip-path=\"url(#clip110)\" style=\"stroke:#000000; stroke-width:4; stroke-opacity:1; fill:none\" points=\"\n",
       "  211.511,1486.45 211.511,1469.18 \n",
       "  \"/>\n",
       "<polyline clip-path=\"url(#clip110)\" style=\"stroke:#000000; stroke-width:4; stroke-opacity:1; fill:none\" points=\"\n",
       "  731.231,1486.45 731.231,1469.18 \n",
       "  \"/>\n",
       "<polyline clip-path=\"url(#clip110)\" style=\"stroke:#000000; stroke-width:4; stroke-opacity:1; fill:none\" points=\"\n",
       "  1250.95,1486.45 1250.95,1469.18 \n",
       "  \"/>\n",
       "<polyline clip-path=\"url(#clip110)\" style=\"stroke:#000000; stroke-width:4; stroke-opacity:1; fill:none\" points=\"\n",
       "  1770.67,1486.45 1770.67,1469.18 \n",
       "  \"/>\n",
       "<polyline clip-path=\"url(#clip110)\" style=\"stroke:#000000; stroke-width:4; stroke-opacity:1; fill:none\" points=\"\n",
       "  2290.39,1486.45 2290.39,1469.18 \n",
       "  \"/>\n",
       "<path clip-path=\"url(#clip110)\" d=\"M 0 0 M165.296 1530.29 L194.972 1530.29 L194.972 1534.23 L165.296 1534.23 L165.296 1530.29 Z\" fill=\"#000000\" fill-rule=\"evenodd\" fill-opacity=\"1\" /><path clip-path=\"url(#clip110)\" d=\"M 0 0 M200.851 1543.18 L208.49 1543.18 L208.49 1516.82 L200.18 1518.49 L200.18 1514.23 L208.444 1512.56 L213.12 1512.56 L213.12 1543.18 L220.759 1543.18 L220.759 1547.12 L200.851 1547.12 L200.851 1543.18 Z\" fill=\"#000000\" fill-rule=\"evenodd\" fill-opacity=\"1\" /><path clip-path=\"url(#clip110)\" d=\"M 0 0 M225.828 1541.24 L230.712 1541.24 L230.712 1547.12 L225.828 1547.12 L225.828 1541.24 Z\" fill=\"#000000\" fill-rule=\"evenodd\" fill-opacity=\"1\" /><path clip-path=\"url(#clip110)\" d=\"M 0 0 M245.782 1515.64 Q242.17 1515.64 240.342 1519.2 Q238.536 1522.75 238.536 1529.87 Q238.536 1536.98 240.342 1540.55 Q242.17 1544.09 245.782 1544.09 Q249.416 1544.09 251.221 1540.55 Q253.05 1536.98 253.05 1529.87 Q253.05 1522.75 251.221 1519.2 Q249.416 1515.64 245.782 1515.64 M245.782 1511.93 Q251.592 1511.93 254.647 1516.54 Q257.726 1521.12 257.726 1529.87 Q257.726 1538.6 254.647 1543.21 Q251.592 1547.79 245.782 1547.79 Q239.971 1547.79 236.893 1543.21 Q233.837 1538.6 233.837 1529.87 Q233.837 1521.12 236.893 1516.54 Q239.971 1511.93 245.782 1511.93 Z\" fill=\"#000000\" fill-rule=\"evenodd\" fill-opacity=\"1\" /><path clip-path=\"url(#clip110)\" d=\"M 0 0 M684.9 1530.29 L714.576 1530.29 L714.576 1534.23 L684.9 1534.23 L684.9 1530.29 Z\" fill=\"#000000\" fill-rule=\"evenodd\" fill-opacity=\"1\" /><path clip-path=\"url(#clip110)\" d=\"M 0 0 M729.645 1515.64 Q726.034 1515.64 724.205 1519.2 Q722.4 1522.75 722.4 1529.87 Q722.4 1536.98 724.205 1540.55 Q726.034 1544.09 729.645 1544.09 Q733.279 1544.09 735.085 1540.55 Q736.913 1536.98 736.913 1529.87 Q736.913 1522.75 735.085 1519.2 Q733.279 1515.64 729.645 1515.64 M729.645 1511.93 Q735.455 1511.93 738.511 1516.54 Q741.589 1521.12 741.589 1529.87 Q741.589 1538.6 738.511 1543.21 Q735.455 1547.79 729.645 1547.79 Q723.835 1547.79 720.756 1543.21 Q717.701 1538.6 717.701 1529.87 Q717.701 1521.12 720.756 1516.54 Q723.835 1511.93 729.645 1511.93 Z\" fill=\"#000000\" fill-rule=\"evenodd\" fill-opacity=\"1\" /><path clip-path=\"url(#clip110)\" d=\"M 0 0 M746.659 1541.24 L751.543 1541.24 L751.543 1547.12 L746.659 1547.12 L746.659 1541.24 Z\" fill=\"#000000\" fill-rule=\"evenodd\" fill-opacity=\"1\" /><path clip-path=\"url(#clip110)\" d=\"M 0 0 M756.659 1512.56 L775.015 1512.56 L775.015 1516.5 L760.941 1516.5 L760.941 1524.97 Q761.96 1524.62 762.978 1524.46 Q763.997 1524.27 765.015 1524.27 Q770.802 1524.27 774.182 1527.44 Q777.561 1530.62 777.561 1536.03 Q777.561 1541.61 774.089 1544.71 Q770.617 1547.79 764.298 1547.79 Q762.122 1547.79 759.853 1547.42 Q757.608 1547.05 755.2 1546.31 L755.2 1541.61 Q757.284 1542.74 759.506 1543.3 Q761.728 1543.86 764.205 1543.86 Q768.21 1543.86 770.548 1541.75 Q772.885 1539.64 772.885 1536.03 Q772.885 1532.42 770.548 1530.31 Q768.21 1528.21 764.205 1528.21 Q762.33 1528.21 760.455 1528.62 Q758.603 1529.04 756.659 1529.92 L756.659 1512.56 Z\" fill=\"#000000\" fill-rule=\"evenodd\" fill-opacity=\"1\" /><path clip-path=\"url(#clip110)\" d=\"M 0 0 M1232.47 1515.64 Q1228.86 1515.64 1227.03 1519.2 Q1225.22 1522.75 1225.22 1529.87 Q1225.22 1536.98 1227.03 1540.55 Q1228.86 1544.09 1232.47 1544.09 Q1236.1 1544.09 1237.91 1540.55 Q1239.74 1536.98 1239.74 1529.87 Q1239.74 1522.75 1237.91 1519.2 Q1236.1 1515.64 1232.47 1515.64 M1232.47 1511.93 Q1238.28 1511.93 1241.33 1516.54 Q1244.41 1521.12 1244.41 1529.87 Q1244.41 1538.6 1241.33 1543.21 Q1238.28 1547.79 1232.47 1547.79 Q1226.66 1547.79 1223.58 1543.21 Q1220.52 1538.6 1220.52 1529.87 Q1220.52 1521.12 1223.58 1516.54 Q1226.66 1511.93 1232.47 1511.93 Z\" fill=\"#000000\" fill-rule=\"evenodd\" fill-opacity=\"1\" /><path clip-path=\"url(#clip110)\" d=\"M 0 0 M1249.48 1541.24 L1254.36 1541.24 L1254.36 1547.12 L1249.48 1547.12 L1249.48 1541.24 Z\" fill=\"#000000\" fill-rule=\"evenodd\" fill-opacity=\"1\" /><path clip-path=\"url(#clip110)\" d=\"M 0 0 M1269.43 1515.64 Q1265.82 1515.64 1263.99 1519.2 Q1262.19 1522.75 1262.19 1529.87 Q1262.19 1536.98 1263.99 1540.55 Q1265.82 1544.09 1269.43 1544.09 Q1273.07 1544.09 1274.87 1540.55 Q1276.7 1536.98 1276.7 1529.87 Q1276.7 1522.75 1274.87 1519.2 Q1273.07 1515.64 1269.43 1515.64 M1269.43 1511.93 Q1275.24 1511.93 1278.3 1516.54 Q1281.38 1521.12 1281.38 1529.87 Q1281.38 1538.6 1278.3 1543.21 Q1275.24 1547.79 1269.43 1547.79 Q1263.62 1547.79 1260.55 1543.21 Q1257.49 1538.6 1257.49 1529.87 Q1257.49 1521.12 1260.55 1516.54 Q1263.62 1511.93 1269.43 1511.93 Z\" fill=\"#000000\" fill-rule=\"evenodd\" fill-opacity=\"1\" /><path clip-path=\"url(#clip110)\" d=\"M 0 0 M1752.68 1515.64 Q1749.07 1515.64 1747.24 1519.2 Q1745.44 1522.75 1745.44 1529.87 Q1745.44 1536.98 1747.24 1540.55 Q1749.07 1544.09 1752.68 1544.09 Q1756.32 1544.09 1758.12 1540.55 Q1759.95 1536.98 1759.95 1529.87 Q1759.95 1522.75 1758.12 1519.2 Q1756.32 1515.64 1752.68 1515.64 M1752.68 1511.93 Q1758.49 1511.93 1761.55 1516.54 Q1764.63 1521.12 1764.63 1529.87 Q1764.63 1538.6 1761.55 1543.21 Q1758.49 1547.79 1752.68 1547.79 Q1746.87 1547.79 1743.8 1543.21 Q1740.74 1538.6 1740.74 1529.87 Q1740.74 1521.12 1743.8 1516.54 Q1746.87 1511.93 1752.68 1511.93 Z\" fill=\"#000000\" fill-rule=\"evenodd\" fill-opacity=\"1\" /><path clip-path=\"url(#clip110)\" d=\"M 0 0 M1769.7 1541.24 L1774.58 1541.24 L1774.58 1547.12 L1769.7 1547.12 L1769.7 1541.24 Z\" fill=\"#000000\" fill-rule=\"evenodd\" fill-opacity=\"1\" /><path clip-path=\"url(#clip110)\" d=\"M 0 0 M1779.7 1512.56 L1798.05 1512.56 L1798.05 1516.5 L1783.98 1516.5 L1783.98 1524.97 Q1785 1524.62 1786.02 1524.46 Q1787.04 1524.27 1788.05 1524.27 Q1793.84 1524.27 1797.22 1527.44 Q1800.6 1530.62 1800.6 1536.03 Q1800.6 1541.61 1797.13 1544.71 Q1793.66 1547.79 1787.34 1547.79 Q1785.16 1547.79 1782.89 1547.42 Q1780.65 1547.05 1778.24 1546.31 L1778.24 1541.61 Q1780.32 1542.74 1782.54 1543.3 Q1784.77 1543.86 1787.24 1543.86 Q1791.25 1543.86 1793.59 1541.75 Q1795.92 1539.64 1795.92 1536.03 Q1795.92 1532.42 1793.59 1530.31 Q1791.25 1528.21 1787.24 1528.21 Q1785.37 1528.21 1783.49 1528.62 Q1781.64 1529.04 1779.7 1529.92 L1779.7 1512.56 Z\" fill=\"#000000\" fill-rule=\"evenodd\" fill-opacity=\"1\" /><path clip-path=\"url(#clip110)\" d=\"M 0 0 M2262.29 1543.18 L2269.93 1543.18 L2269.93 1516.82 L2261.62 1518.49 L2261.62 1514.23 L2269.88 1512.56 L2274.56 1512.56 L2274.56 1543.18 L2282.2 1543.18 L2282.2 1547.12 L2262.29 1547.12 L2262.29 1543.18 Z\" fill=\"#000000\" fill-rule=\"evenodd\" fill-opacity=\"1\" /><path clip-path=\"url(#clip110)\" d=\"M 0 0 M2287.26 1541.24 L2292.15 1541.24 L2292.15 1547.12 L2287.26 1547.12 L2287.26 1541.24 Z\" fill=\"#000000\" fill-rule=\"evenodd\" fill-opacity=\"1\" /><path clip-path=\"url(#clip110)\" d=\"M 0 0 M2307.22 1515.64 Q2303.61 1515.64 2301.78 1519.2 Q2299.97 1522.75 2299.97 1529.87 Q2299.97 1536.98 2301.78 1540.55 Q2303.61 1544.09 2307.22 1544.09 Q2310.85 1544.09 2312.66 1540.55 Q2314.49 1536.98 2314.49 1529.87 Q2314.49 1522.75 2312.66 1519.2 Q2310.85 1515.64 2307.22 1515.64 M2307.22 1511.93 Q2313.03 1511.93 2316.08 1516.54 Q2319.16 1521.12 2319.16 1529.87 Q2319.16 1538.6 2316.08 1543.21 Q2313.03 1547.79 2307.22 1547.79 Q2301.41 1547.79 2298.33 1543.21 Q2295.27 1538.6 2295.27 1529.87 Q2295.27 1521.12 2298.33 1516.54 Q2301.41 1511.93 2307.22 1511.93 Z\" fill=\"#000000\" fill-rule=\"evenodd\" fill-opacity=\"1\" /><polyline clip-path=\"url(#clip112)\" style=\"stroke:#000000; stroke-width:2; stroke-opacity:0.1; fill:none\" points=\"\n",
       "  149.145,1484.37 2352.76,1484.37 \n",
       "  \"/>\n",
       "<polyline clip-path=\"url(#clip112)\" style=\"stroke:#000000; stroke-width:2; stroke-opacity:0.1; fill:none\" points=\"\n",
       "  149.145,1162.03 2352.76,1162.03 \n",
       "  \"/>\n",
       "<polyline clip-path=\"url(#clip112)\" style=\"stroke:#000000; stroke-width:2; stroke-opacity:0.1; fill:none\" points=\"\n",
       "  149.145,839.684 2352.76,839.684 \n",
       "  \"/>\n",
       "<polyline clip-path=\"url(#clip112)\" style=\"stroke:#000000; stroke-width:2; stroke-opacity:0.1; fill:none\" points=\"\n",
       "  149.145,517.34 2352.76,517.34 \n",
       "  \"/>\n",
       "<polyline clip-path=\"url(#clip112)\" style=\"stroke:#000000; stroke-width:2; stroke-opacity:0.1; fill:none\" points=\"\n",
       "  149.145,194.995 2352.76,194.995 \n",
       "  \"/>\n",
       "<polyline clip-path=\"url(#clip110)\" style=\"stroke:#000000; stroke-width:4; stroke-opacity:1; fill:none\" points=\"\n",
       "  149.145,1486.45 149.145,47.2441 \n",
       "  \"/>\n",
       "<polyline clip-path=\"url(#clip110)\" style=\"stroke:#000000; stroke-width:4; stroke-opacity:1; fill:none\" points=\"\n",
       "  149.145,1484.37 175.588,1484.37 \n",
       "  \"/>\n",
       "<polyline clip-path=\"url(#clip110)\" style=\"stroke:#000000; stroke-width:4; stroke-opacity:1; fill:none\" points=\"\n",
       "  149.145,1162.03 175.588,1162.03 \n",
       "  \"/>\n",
       "<polyline clip-path=\"url(#clip110)\" style=\"stroke:#000000; stroke-width:4; stroke-opacity:1; fill:none\" points=\"\n",
       "  149.145,839.684 175.588,839.684 \n",
       "  \"/>\n",
       "<polyline clip-path=\"url(#clip110)\" style=\"stroke:#000000; stroke-width:4; stroke-opacity:1; fill:none\" points=\"\n",
       "  149.145,517.34 175.588,517.34 \n",
       "  \"/>\n",
       "<polyline clip-path=\"url(#clip110)\" style=\"stroke:#000000; stroke-width:4; stroke-opacity:1; fill:none\" points=\"\n",
       "  149.145,194.995 175.588,194.995 \n",
       "  \"/>\n",
       "<path clip-path=\"url(#clip110)\" d=\"M 0 0 M60.8532 1497.72 L77.1725 1497.72 L77.1725 1501.65 L55.2282 1501.65 L55.2282 1497.72 Q57.8902 1494.96 62.4735 1490.33 Q67.08 1485.68 68.2606 1484.34 Q70.5059 1481.82 71.3855 1480.08 Q72.2883 1478.32 72.2883 1476.63 Q72.2883 1473.88 70.3439 1472.14 Q68.4226 1470.4 65.3208 1470.4 Q63.1217 1470.4 60.668 1471.17 Q58.2375 1471.93 55.4597 1473.48 L55.4597 1468.76 Q58.2838 1467.63 60.7374 1467.05 Q63.1911 1466.47 65.2282 1466.47 Q70.5985 1466.47 73.7929 1469.15 Q76.9874 1471.84 76.9874 1476.33 Q76.9874 1478.46 76.1772 1480.38 Q75.3901 1482.28 73.2837 1484.87 Q72.705 1485.54 69.6031 1488.76 Q66.5013 1491.95 60.8532 1497.72 Z\" fill=\"#000000\" fill-rule=\"evenodd\" fill-opacity=\"1\" /><path clip-path=\"url(#clip110)\" d=\"M 0 0 M82.242 1495.77 L87.1262 1495.77 L87.1262 1501.65 L82.242 1501.65 L82.242 1495.77 Z\" fill=\"#000000\" fill-rule=\"evenodd\" fill-opacity=\"1\" /><path clip-path=\"url(#clip110)\" d=\"M 0 0 M92.2419 1467.09 L110.598 1467.09 L110.598 1471.03 L96.5243 1471.03 L96.5243 1479.5 Q97.5428 1479.15 98.5613 1478.99 Q99.5798 1478.81 100.598 1478.81 Q106.385 1478.81 109.765 1481.98 Q113.145 1485.15 113.145 1490.57 Q113.145 1496.14 109.672 1499.25 Q106.2 1502.32 99.8808 1502.32 Q97.7048 1502.32 95.4363 1501.95 Q93.191 1501.58 90.7836 1500.84 L90.7836 1496.14 Q92.8669 1497.28 95.0891 1497.83 Q97.3113 1498.39 99.7882 1498.39 Q103.793 1498.39 106.131 1496.28 Q108.469 1494.18 108.469 1490.57 Q108.469 1486.95 106.131 1484.85 Q103.793 1482.74 99.7882 1482.74 Q97.9132 1482.74 96.0382 1483.16 Q94.1863 1483.58 92.2419 1484.45 L92.2419 1467.09 Z\" fill=\"#000000\" fill-rule=\"evenodd\" fill-opacity=\"1\" /><path clip-path=\"url(#clip110)\" d=\"M 0 0 M69.0476 1160.67 Q72.404 1161.39 74.279 1163.66 Q76.1772 1165.93 76.1772 1169.26 Q76.1772 1174.38 72.6587 1177.18 Q69.1402 1179.98 62.6587 1179.98 Q60.4828 1179.98 58.168 1179.54 Q55.8764 1179.12 53.4227 1178.27 L53.4227 1173.75 Q55.3671 1174.89 57.6819 1175.47 Q59.9967 1176.05 62.5198 1176.05 Q66.918 1176.05 69.2096 1174.31 Q71.5244 1172.57 71.5244 1169.26 Q71.5244 1166.21 69.3717 1164.49 Q67.242 1162.76 63.4226 1162.76 L59.3949 1162.76 L59.3949 1158.92 L63.6078 1158.92 Q67.0569 1158.92 68.8855 1157.55 Q70.7142 1156.16 70.7142 1153.57 Q70.7142 1150.91 68.8161 1149.49 Q66.9411 1148.06 63.4226 1148.06 Q61.5013 1148.06 59.3023 1148.48 Q57.1032 1148.89 54.4643 1149.77 L54.4643 1145.61 Q57.1264 1144.86 59.4412 1144.49 Q61.7791 1144.12 63.8393 1144.12 Q69.1633 1144.12 72.2652 1146.55 Q75.367 1148.96 75.367 1153.08 Q75.367 1155.95 73.7235 1157.94 Q72.08 1159.91 69.0476 1160.67 Z\" fill=\"#000000\" fill-rule=\"evenodd\" fill-opacity=\"1\" /><path clip-path=\"url(#clip110)\" d=\"M 0 0 M81.2466 1173.43 L86.1308 1173.43 L86.1308 1179.31 L81.2466 1179.31 L81.2466 1173.43 Z\" fill=\"#000000\" fill-rule=\"evenodd\" fill-opacity=\"1\" /><path clip-path=\"url(#clip110)\" d=\"M 0 0 M101.2 1147.83 Q97.5891 1147.83 95.7604 1151.39 Q93.9549 1154.93 93.9549 1162.06 Q93.9549 1169.17 95.7604 1172.73 Q97.5891 1176.28 101.2 1176.28 Q104.834 1176.28 106.64 1172.73 Q108.469 1169.17 108.469 1162.06 Q108.469 1154.93 106.64 1151.39 Q104.834 1147.83 101.2 1147.83 M101.2 1144.12 Q107.01 1144.12 110.066 1148.73 Q113.145 1153.31 113.145 1162.06 Q113.145 1170.79 110.066 1175.4 Q107.01 1179.98 101.2 1179.98 Q95.39 1179.98 92.3113 1175.4 Q89.2558 1170.79 89.2558 1162.06 Q89.2558 1153.31 92.3113 1148.73 Q95.39 1144.12 101.2 1144.12 Z\" fill=\"#000000\" fill-rule=\"evenodd\" fill-opacity=\"1\" /><path clip-path=\"url(#clip110)\" d=\"M 0 0 M70.0429 838.33 Q73.3994 839.048 75.2744 841.316 Q77.1725 843.585 77.1725 846.918 Q77.1725 852.034 73.654 854.835 Q70.1355 857.636 63.6541 857.636 Q61.4782 857.636 59.1634 857.196 Q56.8717 856.779 54.418 855.923 L54.418 851.409 Q56.3625 852.543 58.6773 853.122 Q60.9921 853.701 63.5152 853.701 Q67.9133 853.701 70.205 851.964 Q72.5198 850.228 72.5198 846.918 Q72.5198 843.863 70.367 842.15 Q68.2374 840.414 64.418 840.414 L60.3902 840.414 L60.3902 836.571 L64.6032 836.571 Q68.0522 836.571 69.8809 835.205 Q71.7096 833.816 71.7096 831.224 Q71.7096 828.562 69.8115 827.15 Q67.9365 825.715 64.418 825.715 Q62.4967 825.715 60.2976 826.131 Q58.0986 826.548 55.4597 827.428 L55.4597 823.261 Q58.1217 822.52 60.4365 822.15 Q62.7745 821.779 64.8346 821.779 Q70.1587 821.779 73.2605 824.21 Q76.3624 826.617 76.3624 830.738 Q76.3624 833.608 74.7189 835.599 Q73.0753 837.566 70.0429 838.33 Z\" fill=\"#000000\" fill-rule=\"evenodd\" fill-opacity=\"1\" /><path clip-path=\"url(#clip110)\" d=\"M 0 0 M82.242 851.085 L87.1262 851.085 L87.1262 856.964 L82.242 856.964 L82.242 851.085 Z\" fill=\"#000000\" fill-rule=\"evenodd\" fill-opacity=\"1\" /><path clip-path=\"url(#clip110)\" d=\"M 0 0 M92.2419 822.404 L110.598 822.404 L110.598 826.34 L96.5243 826.34 L96.5243 834.812 Q97.5428 834.465 98.5613 834.302 Q99.5798 834.117 100.598 834.117 Q106.385 834.117 109.765 837.289 Q113.145 840.46 113.145 845.876 Q113.145 851.455 109.672 854.557 Q106.2 857.636 99.8808 857.636 Q97.7048 857.636 95.4363 857.265 Q93.191 856.895 90.7836 856.154 L90.7836 851.455 Q92.8669 852.589 95.0891 853.145 Q97.3113 853.701 99.7882 853.701 Q103.793 853.701 106.131 851.594 Q108.469 849.488 108.469 845.876 Q108.469 842.265 106.131 840.159 Q103.793 838.052 99.7882 838.052 Q97.9132 838.052 96.0382 838.469 Q94.1863 838.886 92.2419 839.765 L92.2419 822.404 Z\" fill=\"#000000\" fill-rule=\"evenodd\" fill-opacity=\"1\" /><path clip-path=\"url(#clip110)\" d=\"M 0 0 M66.5939 504.134 L54.7884 522.583 L66.5939 522.583 L66.5939 504.134 M65.367 500.06 L71.2466 500.06 L71.2466 522.583 L76.1772 522.583 L76.1772 526.472 L71.2466 526.472 L71.2466 534.62 L66.5939 534.62 L66.5939 526.472 L50.9921 526.472 L50.9921 521.958 L65.367 500.06 Z\" fill=\"#000000\" fill-rule=\"evenodd\" fill-opacity=\"1\" /><path clip-path=\"url(#clip110)\" d=\"M 0 0 M81.2466 528.74 L86.1308 528.74 L86.1308 534.62 L81.2466 534.62 L81.2466 528.74 Z\" fill=\"#000000\" fill-rule=\"evenodd\" fill-opacity=\"1\" /><path clip-path=\"url(#clip110)\" d=\"M 0 0 M101.2 503.138 Q97.5891 503.138 95.7604 506.703 Q93.9549 510.245 93.9549 517.374 Q93.9549 524.481 95.7604 528.046 Q97.5891 531.587 101.2 531.587 Q104.834 531.587 106.64 528.046 Q108.469 524.481 108.469 517.374 Q108.469 510.245 106.64 506.703 Q104.834 503.138 101.2 503.138 M101.2 499.435 Q107.01 499.435 110.066 504.041 Q113.145 508.625 113.145 517.374 Q113.145 526.101 110.066 530.708 Q107.01 535.291 101.2 535.291 Q95.39 535.291 92.3113 530.708 Q89.2558 526.101 89.2558 517.374 Q89.2558 508.625 92.3113 504.041 Q95.39 499.435 101.2 499.435 Z\" fill=\"#000000\" fill-rule=\"evenodd\" fill-opacity=\"1\" /><path clip-path=\"url(#clip110)\" d=\"M 0 0 M67.5893 181.789 L55.7838 200.238 L67.5893 200.238 L67.5893 181.789 M66.3624 177.715 L72.242 177.715 L72.242 200.238 L77.1725 200.238 L77.1725 204.127 L72.242 204.127 L72.242 212.275 L67.5893 212.275 L67.5893 204.127 L51.9875 204.127 L51.9875 199.613 L66.3624 177.715 Z\" fill=\"#000000\" fill-rule=\"evenodd\" fill-opacity=\"1\" /><path clip-path=\"url(#clip110)\" d=\"M 0 0 M82.242 206.395 L87.1262 206.395 L87.1262 212.275 L82.242 212.275 L82.242 206.395 Z\" fill=\"#000000\" fill-rule=\"evenodd\" fill-opacity=\"1\" /><path clip-path=\"url(#clip110)\" d=\"M 0 0 M92.2419 177.715 L110.598 177.715 L110.598 181.65 L96.5243 181.65 L96.5243 190.122 Q97.5428 189.775 98.5613 189.613 Q99.5798 189.428 100.598 189.428 Q106.385 189.428 109.765 192.599 Q113.145 195.771 113.145 201.187 Q113.145 206.766 109.672 209.868 Q106.2 212.946 99.8808 212.946 Q97.7048 212.946 95.4363 212.576 Q93.191 212.206 90.7836 211.465 L90.7836 206.766 Q92.8669 207.9 95.0891 208.456 Q97.3113 209.011 99.7882 209.011 Q103.793 209.011 106.131 206.905 Q108.469 204.798 108.469 201.187 Q108.469 197.576 106.131 195.47 Q103.793 193.363 99.7882 193.363 Q97.9132 193.363 96.0382 193.78 Q94.1863 194.196 92.2419 195.076 L92.2419 177.715 Z\" fill=\"#000000\" fill-rule=\"evenodd\" fill-opacity=\"1\" /><polyline clip-path=\"url(#clip112)\" style=\"stroke:#009af9; stroke-width:4; stroke-opacity:1; fill:none\" points=\"\n",
       "  1251.33,1343.97 1252.12,1344.63 1255.27,1347.26 1258.42,1349.84 1264.72,1354.9 1271.02,1359.81 1283.62,1369.2 1296.22,1378.01 1321.43,1393.93 1346.63,1407.64 \n",
       "  1397.33,1428.72 1448.04,1441.35 1504.1,1445.72 1560.16,1440.08 1613.5,1425.33 1666.84,1401.19 1722.3,1365.7 1777.76,1318.98 1824.44,1270.31 1871.13,1212.43 \n",
       "  1928.13,1128.11 1985.13,1027.14 2011.92,973.325 2038.71,915.106 2065.5,852.197 2092.29,784.285 2135.21,664.192 2178.13,528.788 2221.05,376.234 2263.97,204.399 \n",
       "  2270.57,176.09 2277.18,147.256 2283.78,117.889 2290.39,87.9763 \n",
       "  \"/>\n",
       "<path clip-path=\"url(#clip110)\" d=\"\n",
       "M1983.44 216.178 L2279.3 216.178 L2279.3 95.2176 L1983.44 95.2176  Z\n",
       "  \" fill=\"#ffffff\" fill-rule=\"evenodd\" fill-opacity=\"1\"/>\n",
       "<polyline clip-path=\"url(#clip110)\" style=\"stroke:#000000; stroke-width:4; stroke-opacity:1; fill:none\" points=\"\n",
       "  1983.44,216.178 2279.3,216.178 2279.3,95.2176 1983.44,95.2176 1983.44,216.178 \n",
       "  \"/>\n",
       "<polyline clip-path=\"url(#clip110)\" style=\"stroke:#009af9; stroke-width:4; stroke-opacity:1; fill:none\" points=\"\n",
       "  2007.92,155.698 2154.83,155.698 \n",
       "  \"/>\n",
       "<path clip-path=\"url(#clip110)\" d=\"M 0 0 M2193.16 175.385 Q2191.35 180.015 2189.64 181.427 Q2187.93 182.839 2185.06 182.839 L2181.65 182.839 L2181.65 179.274 L2184.15 179.274 Q2185.91 179.274 2186.88 178.44 Q2187.86 177.607 2189.04 174.505 L2189.8 172.561 L2179.31 147.052 L2183.83 147.052 L2191.93 167.329 L2200.03 147.052 L2204.55 147.052 L2193.16 175.385 Z\" fill=\"#000000\" fill-rule=\"evenodd\" fill-opacity=\"1\" /><path clip-path=\"url(#clip110)\" d=\"M 0 0 M2210.43 169.042 L2218.06 169.042 L2218.06 142.677 L2209.75 144.343 L2209.75 140.084 L2218.02 138.418 L2222.69 138.418 L2222.69 169.042 L2230.33 169.042 L2230.33 172.978 L2210.43 172.978 L2210.43 169.042 Z\" fill=\"#000000\" fill-rule=\"evenodd\" fill-opacity=\"1\" /></svg>\n"
      ]
     },
     "execution_count": 35,
     "metadata": {},
     "output_type": "execute_result"
    }
   ],
   "source": [
    "plot(f,-1,1)"
   ]
  },
  {
   "cell_type": "markdown",
   "metadata": {},
   "source": [
    "### Adding Automatic Differentiation to Newton's method"
   ]
  },
  {
   "cell_type": "code",
   "execution_count": 37,
   "metadata": {},
   "outputs": [
    {
     "data": {
      "text/plain": [
       "newton (generic function with 2 methods)"
      ]
     },
     "execution_count": 37,
     "metadata": {},
     "output_type": "execute_result"
    }
   ],
   "source": [
    "function newton(f::Function, x0::Real)\n",
    "  local xstep = f(x0)/ForwardDiff.derivative(f,x0) \n",
    "  while abs(xstep)>1e-6\n",
    "    x0 = x0 - xstep\n",
    "    xstep = f(x0)/ForwardDiff.derivative(f,x0)\n",
    "  end\n",
    "  x0\n",
    "end"
   ]
  },
  {
   "cell_type": "markdown",
   "metadata": {},
   "source": [
    "Find all three roots of"
   ]
  },
  {
   "cell_type": "code",
   "execution_count": 39,
   "metadata": {},
   "outputs": [
    {
     "data": {
      "text/plain": [
       "f (generic function with 1 method)"
      ]
     },
     "execution_count": 39,
     "metadata": {},
     "output_type": "execute_result"
    }
   ],
   "source": [
    "f(x)=15x^3-143x^2+226x+280"
   ]
  },
  {
   "cell_type": "markdown",
   "metadata": {},
   "source": [
    "Run Newton's method on $f(x)=x^2+2$.  What happened?"
   ]
  },
  {
   "cell_type": "code",
   "execution_count": null,
   "metadata": {},
   "outputs": [],
   "source": []
  },
  {
   "cell_type": "code",
   "execution_count": null,
   "metadata": {},
   "outputs": [],
   "source": []
  },
  {
   "cell_type": "code",
   "execution_count": 43,
   "metadata": {},
   "outputs": [
    {
     "data": {
      "text/plain": [
       "newton2 (generic function with 1 method)"
      ]
     },
     "execution_count": 43,
     "metadata": {},
     "output_type": "execute_result"
    }
   ],
   "source": [
    "function newton2(f::Function, x0::Real)\n",
    "  local xstep = f(x0)/ForwardDiff.derivative(f,x0)\n",
    "  local steps = 0\n",
    "  while abs(xstep)>1e-6 && steps<10\n",
    "    x0 = x0 - xstep\n",
    "    xstep = f(x0)/ForwardDiff.derivative(f,x0)\n",
    "    steps += 1\n",
    "  end\n",
    "  x0\n",
    "end"
   ]
  },
  {
   "cell_type": "code",
   "execution_count": 45,
   "metadata": {},
   "outputs": [
    {
     "data": {
      "text/plain": [
       "-45.924549552528404"
      ]
     },
     "execution_count": 45,
     "metadata": {},
     "output_type": "execute_result"
    }
   ],
   "source": [
    "newton2(x->x^2+2,0.1)"
   ]
  },
  {
   "cell_type": "code",
   "execution_count": null,
   "metadata": {},
   "outputs": [],
   "source": []
  }
 ],
 "metadata": {
  "kernelspec": {
   "display_name": "Julia 1.5.2",
   "language": "julia",
   "name": "julia-1.5"
  },
  "language_info": {
   "file_extension": ".jl",
   "mimetype": "application/julia",
   "name": "julia",
   "version": "1.5.2"
  }
 },
 "nbformat": 4,
 "nbformat_minor": 4
}
